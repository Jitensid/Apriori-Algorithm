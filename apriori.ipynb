{
 "cells": [
  {
   "cell_type": "code",
   "execution_count": 201,
   "metadata": {
    "_cell_guid": "b1076dfc-b9ad-4769-8c92-a6c4dae69d19",
    "_uuid": "8f2839f25d086af736a60e9eeb907d3b93b6e0e5"
   },
   "outputs": [],
   "source": [
    "import numpy as np\n",
    "import pandas as pd \n",
    "from itertools import combinations \n",
    "from collections import OrderedDict "
   ]
  },
  {
   "cell_type": "code",
   "execution_count": 202,
   "metadata": {},
   "outputs": [],
   "source": [
    "def fetch_dataset(filename):\n",
    "    \n",
    "    dataset = pd.read_excel(filename)\n",
    "    \n",
    "    return dataset"
   ]
  },
  {
   "cell_type": "code",
   "execution_count": 203,
   "metadata": {},
   "outputs": [],
   "source": [
    "def list_to_dict(input_list):\n",
    "    \n",
    "    output_dict = dict()\n",
    "    \n",
    "    for x in input_list:\n",
    "        \n",
    "        if x not in output_dict:\n",
    "            output_dict[x] = 1\n",
    "        \n",
    "        else:\n",
    "            output_dict[x] += 1\n",
    "    \n",
    "    output_dict = OrderedDict(sorted(output_dict.items())) \n",
    "    \n",
    "    return output_dict"
   ]
  },
  {
   "cell_type": "code",
   "execution_count": 204,
   "metadata": {},
   "outputs": [],
   "source": [
    "def keep_required_elements(input_dict,min_support):\n",
    "        \n",
    "    output_dict = {}    \n",
    "    \n",
    "    for key in input_dict.keys() :\n",
    "        \n",
    "        if input_dict[key] >= min_support:\n",
    "            \n",
    "            output_dict[key] =  input_dict[key]\n",
    "            \n",
    "    return output_dict"
   ]
  },
  {
   "cell_type": "code",
   "execution_count": 205,
   "metadata": {},
   "outputs": [],
   "source": [
    "def combination_list(dataset, k):\n",
    "\n",
    "    y = list()\n",
    "\n",
    "    for i in range(len(dataset)):\n",
    "\n",
    "        x = combinations(dataset[\"items\"][i].split(\",\"),k)\n",
    "\n",
    "        y = y + [','.join(i) for i in x]\n",
    "        \n",
    "    return list_to_dict(y)"
   ]
  },
  {
   "cell_type": "code",
   "execution_count": 206,
   "metadata": {},
   "outputs": [],
   "source": [
    "def create_final_itemset_table(dataset):\n",
    "\n",
    "    k = 1\n",
    "\n",
    "    store_combinations = dict()\n",
    "\n",
    "    final_itemset_table = None\n",
    "\n",
    "    while k :\n",
    "\n",
    "        res_dict = keep_required_elements(combination_list(dataset, k), min_support)\n",
    "\n",
    "        store_combinations[k] = res_dict.copy()\n",
    "\n",
    "        if(len(res_dict) == 0):\n",
    "            break\n",
    "\n",
    "        k += 1\n",
    "        \n",
    "    return k, store_combinations"
   ]
  },
  {
   "cell_type": "code",
   "execution_count": 207,
   "metadata": {},
   "outputs": [],
   "source": [
    "def generate_rules(k, store_combinations):\n",
    "\n",
    "    rules_dict = dict()\n",
    "    \n",
    "    for data in list(store_combinations[k-1].keys()):\n",
    "\n",
    "        for i in range(1,k-1):\n",
    "\n",
    "            original_start = data\n",
    "\n",
    "            start = original_start.split(\",\")\n",
    "\n",
    "            total = len(start)\n",
    "\n",
    "            x = combinations(start,i)\n",
    "\n",
    "            y = [','.join(i) for i in x]\n",
    "\n",
    "            z = [sorted(list(set(start) - set(i.split(\",\")))) for i in y]\n",
    "\n",
    "            for i,j in zip(y,z):\n",
    "\n",
    "                temp = ','.join(j)\n",
    "\n",
    "                value = store_combinations[total].get(original_start) / store_combinations[len(j)].get(temp)\n",
    "                \n",
    "                rules_dict[(temp,i)] = value * 100\n",
    "                            \n",
    "    return rules_dict"
   ]
  },
  {
   "cell_type": "code",
   "execution_count": 208,
   "metadata": {},
   "outputs": [],
   "source": [
    "def print_all_rules(rules_dict):\n",
    "    \n",
    "    for key in rules_dict.keys():\n",
    "        \n",
    "        a,b = key\n",
    "        \n",
    "        print(a,\" ==> \",b,\" == \",str(rules_dict[key]))"
   ]
  },
  {
   "cell_type": "code",
   "execution_count": 209,
   "metadata": {},
   "outputs": [],
   "source": [
    "def print_final_rules(rules_dict,min_confidence_percent):\n",
    "    print(\"\")\n",
    "    print(\"Association Rules for the Itemset are as follows :\")\n",
    "    print(\"\")\n",
    "    for key in rules_dict.keys():\n",
    "        \n",
    "        if rules_dict[key] >= min_confidence_percent:\n",
    "            \n",
    "            a,b = key\n",
    "            \n",
    "            print(a,\" ====> \",b, \" == \",str(rules_dict[key]))"
   ]
  },
  {
   "cell_type": "code",
   "execution_count": 210,
   "metadata": {},
   "outputs": [],
   "source": [
    "def display_final_itemset(final_itemset):\n",
    "    \n",
    "    print(\"Itemset\" ,\" \",\" Count\")\n",
    "    \n",
    "    for key in final_itemset.keys():\n",
    "        \n",
    "        print(key, \" \",final_itemset[key])"
   ]
  },
  {
   "cell_type": "code",
   "execution_count": 211,
   "metadata": {},
   "outputs": [],
   "source": [
    "min_support = 2\n",
    "\n",
    "min_confidence_percent = 60"
   ]
  },
  {
   "cell_type": "code",
   "execution_count": 212,
   "metadata": {
    "_cell_guid": "79c7e3d0-c299-4dcb-8224-4455121ee9b0",
    "_uuid": "d629ff2d2480ee46fbb7e2d37f6b5fab8052498a"
   },
   "outputs": [],
   "source": [
    "dataset = fetch_dataset(\"apriori_data.xlsx\")"
   ]
  },
  {
   "cell_type": "code",
   "execution_count": 213,
   "metadata": {},
   "outputs": [
    {
     "data": {
      "text/html": [
       "<div>\n",
       "<style scoped>\n",
       "    .dataframe tbody tr th:only-of-type {\n",
       "        vertical-align: middle;\n",
       "    }\n",
       "\n",
       "    .dataframe tbody tr th {\n",
       "        vertical-align: top;\n",
       "    }\n",
       "\n",
       "    .dataframe thead th {\n",
       "        text-align: right;\n",
       "    }\n",
       "</style>\n",
       "<table border=\"1\" class=\"dataframe\">\n",
       "  <thead>\n",
       "    <tr style=\"text-align: right;\">\n",
       "      <th></th>\n",
       "      <th>TID</th>\n",
       "      <th>items</th>\n",
       "    </tr>\n",
       "  </thead>\n",
       "  <tbody>\n",
       "    <tr>\n",
       "      <th>0</th>\n",
       "      <td>T1</td>\n",
       "      <td>l1,l2,l5</td>\n",
       "    </tr>\n",
       "    <tr>\n",
       "      <th>1</th>\n",
       "      <td>T2</td>\n",
       "      <td>l2,l4</td>\n",
       "    </tr>\n",
       "    <tr>\n",
       "      <th>2</th>\n",
       "      <td>T3</td>\n",
       "      <td>l2,l3</td>\n",
       "    </tr>\n",
       "    <tr>\n",
       "      <th>3</th>\n",
       "      <td>T4</td>\n",
       "      <td>l1,l2,l4</td>\n",
       "    </tr>\n",
       "    <tr>\n",
       "      <th>4</th>\n",
       "      <td>T5</td>\n",
       "      <td>l1,l3</td>\n",
       "    </tr>\n",
       "    <tr>\n",
       "      <th>5</th>\n",
       "      <td>T6</td>\n",
       "      <td>l2,l3</td>\n",
       "    </tr>\n",
       "    <tr>\n",
       "      <th>6</th>\n",
       "      <td>T7</td>\n",
       "      <td>l1,l3</td>\n",
       "    </tr>\n",
       "    <tr>\n",
       "      <th>7</th>\n",
       "      <td>T8</td>\n",
       "      <td>l1,l2,l3,l5</td>\n",
       "    </tr>\n",
       "    <tr>\n",
       "      <th>8</th>\n",
       "      <td>T9</td>\n",
       "      <td>l1,l2,l3</td>\n",
       "    </tr>\n",
       "  </tbody>\n",
       "</table>\n",
       "</div>"
      ],
      "text/plain": [
       "  TID        items\n",
       "0  T1     l1,l2,l5\n",
       "1  T2        l2,l4\n",
       "2  T3        l2,l3\n",
       "3  T4     l1,l2,l4\n",
       "4  T5        l1,l3\n",
       "5  T6        l2,l3\n",
       "6  T7        l1,l3\n",
       "7  T8  l1,l2,l3,l5\n",
       "8  T9     l1,l2,l3"
      ]
     },
     "execution_count": 213,
     "metadata": {},
     "output_type": "execute_result"
    }
   ],
   "source": [
    "dataset.head(10)"
   ]
  },
  {
   "cell_type": "code",
   "execution_count": 214,
   "metadata": {},
   "outputs": [
    {
     "name": "stdout",
     "output_type": "stream",
     "text": [
      "Itemset    Count\n",
      "l1,l2,l3   2\n",
      "l1,l2,l5   2\n",
      "\n",
      "Association Rules for the Itemset are as follows :\n",
      "\n",
      "l2,l5  ====>  l1  ==  100.0\n",
      "l1,l5  ====>  l2  ==  100.0\n",
      "l5  ====>  l1,l2  ==  100.0\n"
     ]
    }
   ],
   "source": [
    "k , store_combinations = create_final_itemset_table(dataset)\n",
    "\n",
    "display_final_itemset(store_combinations[k-1])\n",
    "\n",
    "rules_dict = generate_rules(k, store_combinations)\n",
    "\n",
    "print_final_rules(rules_dict, min_confidence_percent)"
   ]
  }
 ],
 "metadata": {
  "kernelspec": {
   "display_name": "Python 3",
   "language": "python",
   "name": "python3"
  },
  "language_info": {
   "codemirror_mode": {
    "name": "ipython",
    "version": 3
   },
   "file_extension": ".py",
   "mimetype": "text/x-python",
   "name": "python",
   "nbconvert_exporter": "python",
   "pygments_lexer": "ipython3",
   "version": "3.7.4"
  }
 },
 "nbformat": 4,
 "nbformat_minor": 4
}
